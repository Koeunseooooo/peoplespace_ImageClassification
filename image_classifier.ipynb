{
  "nbformat": 4,
  "nbformat_minor": 0,
  "metadata": {
    "colab": {
      "name": "image_classifier.ipynb",
      "private_outputs": true,
      "provenance": [],
      "collapsed_sections": []
    },
    "kernelspec": {
      "name": "python3",
      "display_name": "Python 3"
    },
    "accelerator": "GPU"
  },
  "cells": [
    {
      "cell_type": "code",
      "metadata": {
        "id": "QRoF-Tg8WfxG"
      },
      "source": [
        "!pip install voila\r\n",
        "!jupyter serverextension enable --sys-prefix voila"
      ],
      "execution_count": null,
      "outputs": []
    },
    {
      "cell_type": "code",
      "metadata": {
        "id": "MxlWgeBGWqAP"
      },
      "source": [
        "from fastai.vision.all import *\r\n",
        "from fastai.vision.widgets import *"
      ],
      "execution_count": null,
      "outputs": []
    },
    {
      "cell_type": "markdown",
      "metadata": {
        "id": "D_vqYLB3XDLU"
      },
      "source": [
        "# Plant Classifier!!"
      ]
    },
    {
      "cell_type": "code",
      "metadata": {
        "id": "5MYyKOAJNDKF"
      },
      "source": [
        "path = Path()\r\n",
        "path.ls(file_exts='.pkl')"
      ],
      "execution_count": null,
      "outputs": []
    },
    {
      "cell_type": "code",
      "metadata": {
        "id": "v945_5OxNPyo"
      },
      "source": [
        "learn_inf = load_learner(path/'export.pkl', cpu=True)\r\n",
        "btn_upload = widgets.FileUpload()\r\n",
        "out_pl = widgets.Output()\r\n",
        "lbl_pred = widgets.Label()"
      ],
      "execution_count": null,
      "outputs": []
    },
    {
      "cell_type": "code",
      "metadata": {
        "id": "SCsLWK4RNoet"
      },
      "source": [
        "def on_data_change(change):\r\n",
        "    lbl_pred.value = ''\r\n",
        "    img = PILImage.create(btn_upload.data[-1])\r\n",
        "    out_pl.clear_output()\r\n",
        "    with out_pl: display(img.to_thumb(128,128))\r\n",
        "    pred,pred_idx,probs = learn_inf.predict(img)\r\n",
        "    lbl_pred.value = f'Prediction: {pred}; Probability: {probs[pred_idx]:.04f}'"
      ],
      "execution_count": null,
      "outputs": []
    },
    {
      "cell_type": "code",
      "metadata": {
        "id": "9iq5BJwyNqIh"
      },
      "source": [
        "btn_upload.observe(on_data_change, names=['data'])"
      ],
      "execution_count": null,
      "outputs": []
    },
    {
      "cell_type": "code",
      "metadata": {
        "id": "8Lg6MNONNsdL"
      },
      "source": [
        "display(VBox([widgets.Label('Choose your plant!'), btn_upload, out_pl, lbl_pred]))"
      ],
      "execution_count": null,
      "outputs": []
    },
    {
      "cell_type": "code",
      "metadata": {
        "id": "kOCTrsggQr0b"
      },
      "source": [
        ""
      ],
      "execution_count": null,
      "outputs": []
    }
  ]
}